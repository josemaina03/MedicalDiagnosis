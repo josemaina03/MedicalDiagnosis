{
 "cells": [
  {
   "cell_type": "code",
   "execution_count": 18,
   "id": "6bb8203f",
   "metadata": {},
   "outputs": [
    {
     "name": "stdout",
     "output_type": "stream",
     "text": [
      "Enter the patient's symptoms (comma-separated): fever, cough, headache\n",
      "Diagnosis: ['migraine', 'flu', 'bronchitis', 'malaria', 'common cold', 'tension headache']\n",
      "Patient record has been stored.\n"
     ]
    }
   ],
   "source": [
    "# Define a dictionary of symptoms and corresponding diseases\n",
    "symptoms_to_diseases = {\n",
    "    'fever': ['flu', 'malaria'],\n",
    "    'cough': ['common cold', 'bronchitis'],\n",
    "    'headache': ['migraine', 'tension headache'],\n",
    "    'fatigue': ['chronic fatigue syndrome', 'anemia'],\n",
    "    'rash': ['allergies', 'eczema']\n",
    "}\n",
    "\n",
    "# Function to perform medical diagnosis based on symptoms\n",
    "def diagnose(symptoms):\n",
    "    matched_diseases = []\n",
    "    \n",
    "    for symptom in symptoms:\n",
    "        if symptom in symptoms_to_diseases:\n",
    "            matched_diseases.extend(symptoms_to_diseases[symptom])\n",
    "    \n",
    "    if len(matched_diseases) == 0:\n",
    "        return \"No matching diseases found.\"\n",
    "    else:\n",
    "        return list(set(matched_diseases))  # Return unique diseases\n",
    "\n",
    "# Prompt the user for symptoms\n",
    "patient_symptoms = input(\"Enter the patient's symptoms (comma-separated): \").split(\",\")\n",
    "\n",
    "# Remove leading/trailing whitespaces from each symptom\n",
    "patient_symptoms = [symptom.strip() for symptom in patient_symptoms]\n",
    "\n",
    "# Perform diagnosis\n",
    "diagnosis = diagnose(patient_symptoms)\n",
    "print(\"Diagnosis:\", diagnosis)\n",
    "\n",
    "# Store the patient symptoms in a file\n",
    "with open(\"patient_records.txt\", \"a\") as file:\n",
    "    file.write(\"Symptoms: {}\\n\".format(\", \".join(patient_symptoms)))\n",
    "    file.write(\"Diagnosis: {}\\n\".format(\", \".join(diagnosis)))\n",
    "\n",
    "print(\"Patient record has been stored.\")\n"
   ]
  },
  {
   "cell_type": "code",
   "execution_count": 19,
   "id": "c1e0e9f4",
   "metadata": {},
   "outputs": [
    {
     "name": "stdout",
     "output_type": "stream",
     "text": [
      "                  0\n",
      "0          migraine\n",
      "1               flu\n",
      "2        bronchitis\n",
      "3           malaria\n",
      "4       common cold\n",
      "5  tension headache\n"
     ]
    }
   ],
   "source": [
    "import pandas as pd\n",
    "df = pd.DataFrame(diagnosis)\n",
    "print(df)"
   ]
  },
  {
   "cell_type": "code",
   "execution_count": 20,
   "id": "adc5e395",
   "metadata": {},
   "outputs": [
    {
     "name": "stdout",
     "output_type": "stream",
     "text": [
      "Patient Records:\n",
      "Symptoms: fever, cough, headache\n",
      "Diagnosis: migraine, flu, bronchitis, malaria, common cold, tension headache\n",
      "\n"
     ]
    }
   ],
   "source": [
    "# Read and display the contents of the patient records file\n",
    "with open(\"patient_records.txt\", \"r\") as file:\n",
    "    contents = file.read()\n",
    "\n",
    "print(\"Patient Records:\")\n",
    "print(contents)\n"
   ]
  },
  {
   "cell_type": "code",
   "execution_count": null,
   "id": "e1dfbc8b",
   "metadata": {},
   "outputs": [],
   "source": []
  }
 ],
 "metadata": {
  "kernelspec": {
   "display_name": "Python 3 (ipykernel)",
   "language": "python",
   "name": "python3"
  },
  "language_info": {
   "codemirror_mode": {
    "name": "ipython",
    "version": 3
   },
   "file_extension": ".py",
   "mimetype": "text/x-python",
   "name": "python",
   "nbconvert_exporter": "python",
   "pygments_lexer": "ipython3",
   "version": "3.10.9"
  }
 },
 "nbformat": 4,
 "nbformat_minor": 5
}
